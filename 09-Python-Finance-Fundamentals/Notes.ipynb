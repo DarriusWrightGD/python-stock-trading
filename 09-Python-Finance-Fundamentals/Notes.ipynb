{
 "cells": [
  {
   "cell_type": "markdown",
   "metadata": {},
   "source": [
    "# Python for finance\n",
    "\n",
    "## Sharpe Ratio\n",
    "\n",
    "Calculate risk adjusted return\n",
    "\n",
    "SR = Mean Return / Std. dev.\n",
    "Daily = K = sqrt(252)\n",
    "Weekly = K = sqrt(52)\n",
    "Monthly = K = sqrt(12)\n",
    "\n",
    "ASR = K * SR\n",
    "\n",
    "## Key Financial Topics\n",
    "\n",
    "### Types of Funds\n",
    "- ETF - Exchanges Traded Funds basket of funds, and their holdings are completely public and transparent. When you are looking for a diversified portfolio\n",
    "- Mutual Fund - made of a pool of funds, operated by money managers. Disclose earnings once a month\n",
    "- Hedge Funds - Alternative investments using pooled funds that employ numerous strats to earn active return for investors. Have a goal of getting high returns to beat benchmarks.\n",
    "\n",
    "### Order Books\n",
    "\n",
    "When you click the buy a stock an order includes buy or sell, symbol, number of shares, limit or market, and price (only for limit)\n",
    "\n",
    "i.e.\n",
    "\n",
    "- BUY AAPL 200 Market\n",
    "\n",
    "Once you've sent an order it goes to an exchange. Once recieved it goes into the exchanges order book.\n",
    "\n",
    "### Capital Asset Pricing Model\n",
    "\n",
    "Model that describes risk and market return\n",
    "\n",
    "### Stock Splits and Dividends \n",
    "\n",
    "We use Adj. Close price to take into account price splits and Dividends.\n",
    "\n",
    "### Efficent Market Hypothesis\n",
    "\n",
    "\"It's impossible to beat the market\""
   ]
  }
 ],
 "metadata": {
  "kernelspec": {
   "display_name": "Python 2",
   "language": "python",
   "name": "python2"
  },
  "language_info": {
   "codemirror_mode": {
    "name": "ipython",
    "version": 2
   },
   "file_extension": ".py",
   "mimetype": "text/x-python",
   "name": "python",
   "nbconvert_exporter": "python",
   "pygments_lexer": "ipython2",
   "version": "2.7.14"
  }
 },
 "nbformat": 4,
 "nbformat_minor": 2
}
